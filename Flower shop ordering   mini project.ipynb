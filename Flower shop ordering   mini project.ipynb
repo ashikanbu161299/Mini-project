{
 "cells": [
  {
   "cell_type": "code",
   "execution_count": 1,
   "id": "92e0a6b1",
   "metadata": {},
   "outputs": [
    {
     "name": "stdout",
     "output_type": "stream",
     "text": [
      "Rose - $2.5 per stem, 10 stems in stock\n",
      "Daisy - $1.5 per stem, 5 stems in stock\n",
      "Lily - $3 per stem, 7 stems in stock\n"
     ]
    }
   ],
   "source": [
    "class Flower:\n",
    "    def __init__(self, name, price, stock):\n",
    "        self.name = name\n",
    "        self.price = price\n",
    "        self.stock = stock\n",
    "    \n",
    "    def __str__(self):\n",
    "        return f\"{self.name} - ${self.price} per stem, {self.stock} stems in stock\"\n",
    "    \n",
    "    def order(self, quantity):\n",
    "        if quantity > self.stock:\n",
    "            print(f\"Sorry, we only have {self.stock} stems of {self.name} in stock.\")\n",
    "            return 0\n",
    "        else:\n",
    "            self.stock -= quantity\n",
    "            return quantity * self.price\n",
    "    \n",
    "\n",
    "class Bouquet:\n",
    "    def __init__(self, name, flowers):\n",
    "        self.name = name\n",
    "        self.flowers = flowers\n",
    "    \n",
    "    def __str__(self):\n",
    "        return f\"{self.name} - ${self.get_price()}\"\n",
    "    \n",
    "    def get_price(self):\n",
    "        total_price = 0\n",
    "        for flower, quantity in self.flowers.items():\n",
    "            total_price += flower.price * quantity\n",
    "        return total_price\n",
    "    \n",
    "    def order(self, quantity):\n",
    "        total_price = 0\n",
    "        for flower, flower_quantity in self.flowers.items():\n",
    "            order_quantity = quantity * flower_quantity\n",
    "            total_price += flower.order(order_quantity)\n",
    "            if total_price == 0:\n",
    "                # Abort the order if we don't have enough stock for any of the flowers\n",
    "                break\n",
    "        return total_price\n",
    "\n",
    "\n",
    "# Example usage:\n",
    "rose = Flower(\"Rose\", 2.5, 10)\n",
    "daisy = Flower(\"Daisy\", 1.5, 5)\n",
    "lily = Flower(\"Lily\", 3, 7)\n",
    "\n",
    "bouquet1 = Bouquet(\"Spring Bouquet\", {rose: 5, daisy: 10})\n",
    "bouquet2 = Bouquet(\"Romantic Bouquet\", {rose: 10, lily: 7})\n",
    "\n",
    "print(rose)\n",
    "print(daisy)\n",
    "print(lily)\n",
    "\n",
    "\n"
   ]
  },
  {
   "cell_type": "code",
   "execution_count": null,
   "id": "9cc9be1a",
   "metadata": {},
   "outputs": [],
   "source": []
  }
 ],
 "metadata": {
  "kernelspec": {
   "display_name": "Python 3 (ipykernel)",
   "language": "python",
   "name": "python3"
  },
  "language_info": {
   "codemirror_mode": {
    "name": "ipython",
    "version": 3
   },
   "file_extension": ".py",
   "mimetype": "text/x-python",
   "name": "python",
   "nbconvert_exporter": "python",
   "pygments_lexer": "ipython3",
   "version": "3.9.13"
  }
 },
 "nbformat": 4,
 "nbformat_minor": 5
}
